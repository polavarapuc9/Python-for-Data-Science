{
 "cells": [
  {
   "cell_type": "markdown",
   "metadata": {},
   "source": [
    "# Object Oriented Programming in Python - 2 "
   ]
  },
  {
   "cell_type": "markdown",
   "metadata": {},
   "source": [
    "In this notebook we are going to briefly look into inheritance, polymorphism and special Methods."
   ]
  },
  {
   "cell_type": "markdown",
   "metadata": {},
   "source": [
    "## Inheritance\n",
    "Every object in programming belongs to a class and every class(derived) has its parent(Base) where it inherits all its attributes and functionality from it. This process of inheriting from parent class to derived class we called this concept as __Inheritance__.\n",
    "\n",
    "The main advantage of this is 1. Code reusability and 2. Code structuring"
   ]
  },
  {
   "cell_type": "code",
   "execution_count": null,
   "metadata": {},
   "outputs": [],
   "source": [
    "class Parent:\n",
    "    def __init__(self):\n",
    "        print(\"Parent created\")\n",
    "        \n",
    "    def Iam(self):\n",
    "        print(\"Parent\")\n",
    "        \n",
    "    def Working(self):\n",
    "        print (\"Working parent\")\n",
    "        \n",
    "class Child(Parent):\n",
    "    def __init__(self):\n",
    "        Parent.__init__(self)\n",
    "        print(\"Child of Parent created\")\n",
    "        \n",
    "    def Iam(self):\n",
    "        print(\"Child\")\n",
    "        \n",
    "    def Intelligence(self):\n",
    "        print(\"Child intelligence\")\n",
    "        \n",
    "    def Learning(self):\n",
    "        print(\"learning child\")"
   ]
  },
  {
   "cell_type": "code",
   "execution_count": null,
   "metadata": {},
   "outputs": [],
   "source": [
    "a = Parent()"
   ]
  },
  {
   "cell_type": "code",
   "execution_count": null,
   "metadata": {},
   "outputs": [],
   "source": [
    "a.Iam()"
   ]
  },
  {
   "cell_type": "code",
   "execution_count": null,
   "metadata": {},
   "outputs": [],
   "source": [
    "a.Working()"
   ]
  },
  {
   "cell_type": "code",
   "execution_count": null,
   "metadata": {},
   "outputs": [],
   "source": [
    "b = Child()"
   ]
  },
  {
   "cell_type": "code",
   "execution_count": null,
   "metadata": {},
   "outputs": [],
   "source": [
    "b.Iam()"
   ]
  },
  {
   "cell_type": "code",
   "execution_count": null,
   "metadata": {},
   "outputs": [],
   "source": [
    "b.Learning()"
   ]
  },
  {
   "cell_type": "markdown",
   "metadata": {},
   "source": [
    "## Polymorphism"
   ]
  },
  {
   "cell_type": "markdown",
   "metadata": {},
   "source": [
    "In realtime environment we use same object to perform a function that gives different functionality. Here both object and function executed is same only difference is in output."
   ]
  },
  {
   "cell_type": "code",
   "execution_count": 7,
   "metadata": {},
   "outputs": [
    {
     "name": "stdout",
     "output_type": "stream",
     "text": [
      "BSNL Only for calling!\n",
      "Cellone For calling and texting!\n"
     ]
    }
   ],
   "source": [
    "class Landline:\n",
    "    def __init__(self, name):\n",
    "        self.name = name\n",
    "\n",
    "    def mode(self):\n",
    "        return self.name+' Only for calling!'\n",
    "    \n",
    "class Mobile:\n",
    "    def __init__(self, name):\n",
    "        self.name = name\n",
    "\n",
    "    def mode(self):\n",
    "        return self.name+' For calling and texting!' \n",
    "    \n",
    "x = Landline('BSNL')\n",
    "y = Mobile('Cellone')\n",
    "\n",
    "print(x.mode())\n",
    "print(y.mode())"
   ]
  },
  {
   "cell_type": "code",
   "execution_count": null,
   "metadata": {},
   "outputs": [],
   "source": [
    "class Phone:\n",
    "    def __init__(self,name):\n",
    "        self.name = name\n",
    "    def Iam(self):\n",
    "        return self.name + \" Always in home\"\n",
    "\n",
    "class Mobile(Phone):\n",
    "    def Iam(self):\n",
    "        return self.name + \" Always with user\"\n",
    "        \n",
    "\n",
    "x = Mobile(\"Cellphone\")\n",
    "\n",
    "print(x.Iam())"
   ]
  },
  {
   "cell_type": "code",
   "execution_count": 6,
   "metadata": {},
   "outputs": [
    {
     "name": "stdout",
     "output_type": "stream",
     "text": [
      "I am only for calling\n"
     ]
    }
   ],
   "source": [
    "class Phone:\n",
    "    def Iam(self,name=None):\n",
    "        if name==\"a\":\n",
    "            print(\"I am only for calling\")\n",
    "        if name==\"b\":\n",
    "            print(\"I am for callinf and texting\")\n",
    "\n",
    "i = Phone()\n",
    "i.Iam(\"a\")           "
   ]
  },
  {
   "cell_type": "markdown",
   "metadata": {},
   "source": [
    "## Special Magic Methods"
   ]
  },
  {
   "cell_type": "markdown",
   "metadata": {},
   "source": [
    "Python offers number of special methods which serves as template in development of OOPS concepts."
   ]
  }
 ],
 "metadata": {
  "kernelspec": {
   "display_name": "Python 3",
   "language": "python",
   "name": "python3"
  },
  "language_info": {
   "codemirror_mode": {
    "name": "ipython",
    "version": 3
   },
   "file_extension": ".py",
   "mimetype": "text/x-python",
   "name": "python",
   "nbconvert_exporter": "python",
   "pygments_lexer": "ipython3",
   "version": "3.7.3"
  }
 },
 "nbformat": 4,
 "nbformat_minor": 2
}
