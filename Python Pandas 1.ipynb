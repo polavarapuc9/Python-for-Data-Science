{
 "cells": [
  {
   "cell_type": "markdown",
   "metadata": {},
   "source": [
    "# Pandas (For Hetrogeneous data type)\n",
    "\n",
    "1d arrays as series\n",
    "\n",
    "2d arraya as dataframe\n",
    "\n",
    "3d arrays as Panel"
   ]
  },
  {
   "cell_type": "markdown",
   "metadata": {},
   "source": [
    "## Pandas Series"
   ]
  },
  {
   "cell_type": "code",
   "execution_count": 1,
   "metadata": {},
   "outputs": [
    {
     "data": {
      "text/plain": [
       "array([], dtype=float64)"
      ]
     },
     "execution_count": 1,
     "metadata": {},
     "output_type": "execute_result"
    }
   ],
   "source": [
    "import numpy as np\n",
    "a = np.array([])\n",
    "a"
   ]
  },
  {
   "cell_type": "code",
   "execution_count": 2,
   "metadata": {},
   "outputs": [
    {
     "data": {
      "text/plain": [
       "Series([], dtype: float64)"
      ]
     },
     "execution_count": 2,
     "metadata": {},
     "output_type": "execute_result"
    }
   ],
   "source": [
    "import pandas as pd\n",
    "b = pd.Series()\n",
    "b"
   ]
  },
  {
   "cell_type": "code",
   "execution_count": 3,
   "metadata": {},
   "outputs": [
    {
     "data": {
      "text/plain": [
       "0    H\n",
       "1    E\n",
       "2    L\n",
       "3    L\n",
       "4    O\n",
       "dtype: object"
      ]
     },
     "execution_count": 3,
     "metadata": {},
     "output_type": "execute_result"
    }
   ],
   "source": [
    "c = np.array([\"H\",\"E\",\"L\",\"L\",\"O\"])\n",
    "d = pd.Series(c)\n",
    "d"
   ]
  },
  {
   "cell_type": "code",
   "execution_count": 4,
   "metadata": {},
   "outputs": [
    {
     "data": {
      "text/plain": [
       "0    H\n",
       "1    E\n",
       "2    L\n",
       "4    O\n",
       "dtype: object"
      ]
     },
     "execution_count": 4,
     "metadata": {},
     "output_type": "execute_result"
    }
   ],
   "source": [
    "e = pd.Series(d, index=[0,1,2,4])\n",
    "e"
   ]
  },
  {
   "cell_type": "code",
   "execution_count": 5,
   "metadata": {},
   "outputs": [
    {
     "data": {
      "text/plain": [
       "Key0    0\n",
       "Key1    1\n",
       "Key2    2\n",
       "Key3    3\n",
       "dtype: int64"
      ]
     },
     "execution_count": 5,
     "metadata": {},
     "output_type": "execute_result"
    }
   ],
   "source": [
    "f = {\"Key0\":0,\"Key1\":1,\"Key2\":2,\"Key3\":3}\n",
    "g = pd.Series(f)\n",
    "g"
   ]
  },
  {
   "cell_type": "code",
   "execution_count": 6,
   "metadata": {},
   "outputs": [
    {
     "data": {
      "text/plain": [
       "Key0    0.0\n",
       "1       NaN\n",
       "2       NaN\n",
       "Key3    3.0\n",
       "dtype: float64"
      ]
     },
     "execution_count": 6,
     "metadata": {},
     "output_type": "execute_result"
    }
   ],
   "source": [
    "h = pd.Series(f, index=[\"Key0\",1,2,\"Key3\"])\n",
    "h"
   ]
  },
  {
   "cell_type": "code",
   "execution_count": 7,
   "metadata": {},
   "outputs": [
    {
     "data": {
      "text/plain": [
       "False"
      ]
     },
     "execution_count": 7,
     "metadata": {},
     "output_type": "execute_result"
    }
   ],
   "source": [
    "np.nan == None"
   ]
  },
  {
   "cell_type": "code",
   "execution_count": 8,
   "metadata": {},
   "outputs": [
    {
     "data": {
      "text/plain": [
       "False"
      ]
     },
     "execution_count": 8,
     "metadata": {},
     "output_type": "execute_result"
    }
   ],
   "source": [
    "np.nan == np.nan "
   ]
  },
  {
   "cell_type": "code",
   "execution_count": 9,
   "metadata": {},
   "outputs": [
    {
     "data": {
      "text/plain": [
       "True"
      ]
     },
     "execution_count": 9,
     "metadata": {},
     "output_type": "execute_result"
    }
   ],
   "source": [
    "np.isnan(np.nan)"
   ]
  },
  {
   "cell_type": "code",
   "execution_count": 10,
   "metadata": {},
   "outputs": [
    {
     "data": {
      "text/plain": [
       "0    1\n",
       "1    1\n",
       "2    1\n",
       "3    1\n",
       "dtype: int64"
      ]
     },
     "execution_count": 10,
     "metadata": {},
     "output_type": "execute_result"
    }
   ],
   "source": [
    "i = pd.Series(1, index=[0, 1, 2, 3])\n",
    "i"
   ]
  },
  {
   "cell_type": "code",
   "execution_count": 11,
   "metadata": {},
   "outputs": [
    {
     "data": {
      "text/plain": [
       "0    a\n",
       "1    b\n",
       "2    c\n",
       "3    d\n",
       "dtype: object"
      ]
     },
     "execution_count": 11,
     "metadata": {},
     "output_type": "execute_result"
    }
   ],
   "source": [
    "j = pd.Series([\"a\",\"b\",\"c\",\"d\"], index=[0, 1, 2, 3])\n",
    "j"
   ]
  },
  {
   "cell_type": "code",
   "execution_count": 12,
   "metadata": {},
   "outputs": [
    {
     "data": {
      "text/plain": [
       "'a'"
      ]
     },
     "execution_count": 12,
     "metadata": {},
     "output_type": "execute_result"
    }
   ],
   "source": [
    "j[0]"
   ]
  },
  {
   "cell_type": "code",
   "execution_count": 13,
   "metadata": {},
   "outputs": [
    {
     "data": {
      "text/plain": [
       "0    a\n",
       "1    b\n",
       "2    c\n",
       "dtype: object"
      ]
     },
     "execution_count": 13,
     "metadata": {},
     "output_type": "execute_result"
    }
   ],
   "source": [
    "j[:3]"
   ]
  },
  {
   "cell_type": "code",
   "execution_count": 14,
   "metadata": {},
   "outputs": [
    {
     "data": {
      "text/plain": [
       "1    b\n",
       "2    c\n",
       "dtype: object"
      ]
     },
     "execution_count": 14,
     "metadata": {},
     "output_type": "execute_result"
    }
   ],
   "source": [
    "j[1:3]"
   ]
  },
  {
   "cell_type": "code",
   "execution_count": 15,
   "metadata": {},
   "outputs": [
    {
     "data": {
      "text/plain": [
       "0    a\n",
       "1    b\n",
       "2    c\n",
       "3    d\n",
       "dtype: object"
      ]
     },
     "execution_count": 15,
     "metadata": {},
     "output_type": "execute_result"
    }
   ],
   "source": [
    "j[:]"
   ]
  },
  {
   "cell_type": "code",
   "execution_count": 16,
   "metadata": {},
   "outputs": [
    {
     "data": {
      "text/plain": [
       "3    d\n",
       "dtype: object"
      ]
     },
     "execution_count": 16,
     "metadata": {},
     "output_type": "execute_result"
    }
   ],
   "source": [
    "j[3:]"
   ]
  },
  {
   "cell_type": "code",
   "execution_count": 17,
   "metadata": {},
   "outputs": [
    {
     "data": {
      "text/plain": [
       "3    d\n",
       "dtype: object"
      ]
     },
     "execution_count": 17,
     "metadata": {},
     "output_type": "execute_result"
    }
   ],
   "source": [
    "j[-1:]"
   ]
  },
  {
   "cell_type": "code",
   "execution_count": 18,
   "metadata": {},
   "outputs": [
    {
     "data": {
      "text/plain": [
       "India        Hockey\n",
       "Germany    Football\n",
       "England     Cricket\n",
       "USA            Golf\n",
       "dtype: object"
      ]
     },
     "execution_count": 18,
     "metadata": {},
     "output_type": "execute_result"
    }
   ],
   "source": [
    "s = pd.Series({\"India\":\"Hockey\",\"Germany\":\"Football\",\"England\":\"Cricket\",\"USA\": \"Golf\"})\n",
    "s"
   ]
  },
  {
   "cell_type": "code",
   "execution_count": 19,
   "metadata": {},
   "outputs": [
    {
     "data": {
      "text/plain": [
       "'Golf'"
      ]
     },
     "execution_count": 19,
     "metadata": {},
     "output_type": "execute_result"
    }
   ],
   "source": [
    "s[3]"
   ]
  },
  {
   "cell_type": "code",
   "execution_count": 20,
   "metadata": {},
   "outputs": [
    {
     "data": {
      "text/plain": [
       "'Golf'"
      ]
     },
     "execution_count": 20,
     "metadata": {},
     "output_type": "execute_result"
    }
   ],
   "source": [
    "s[\"USA\"]"
   ]
  },
  {
   "cell_type": "code",
   "execution_count": 21,
   "metadata": {},
   "outputs": [
    {
     "data": {
      "text/plain": [
       "'Golf'"
      ]
     },
     "execution_count": 21,
     "metadata": {},
     "output_type": "execute_result"
    }
   ],
   "source": [
    "s.loc[\"USA\"]"
   ]
  },
  {
   "cell_type": "code",
   "execution_count": 22,
   "metadata": {},
   "outputs": [
    {
     "data": {
      "text/plain": [
       "'Golf'"
      ]
     },
     "execution_count": 22,
     "metadata": {},
     "output_type": "execute_result"
    }
   ],
   "source": [
    "s.iloc[3]"
   ]
  },
  {
   "cell_type": "markdown",
   "metadata": {},
   "source": [
    "## Pandas DataFrame"
   ]
  },
  {
   "cell_type": "markdown",
   "metadata": {},
   "source": [
    "__Data Structure:__\n",
    "Rows gives index information and columns gives feature information."
   ]
  },
  {
   "cell_type": "code",
   "execution_count": 23,
   "metadata": {},
   "outputs": [
    {
     "name": "stdout",
     "output_type": "stream",
     "text": [
      "Empty DataFrame\n",
      "Columns: []\n",
      "Index: []\n"
     ]
    }
   ],
   "source": [
    "k = pd.DataFrame()\n",
    "print(k)"
   ]
  },
  {
   "cell_type": "code",
   "execution_count": 24,
   "metadata": {},
   "outputs": [
    {
     "name": "stdout",
     "output_type": "stream",
     "text": [
      "     0\n",
      "0  111\n",
      "1  222\n",
      "2  333\n"
     ]
    }
   ],
   "source": [
    "l = pd.DataFrame([111,222,333])\n",
    "print(l)"
   ]
  },
  {
   "cell_type": "code",
   "execution_count": 25,
   "metadata": {},
   "outputs": [
    {
     "name": "stdout",
     "output_type": "stream",
     "text": [
      "     Name  Salary\n",
      "0     Bob   80000\n",
      "1   Alice   85000\n",
      "2  Claire   82000\n"
     ]
    }
   ],
   "source": [
    "dt = [[\"Bob\",80000],[\"Alice\",85000],[\"Claire\",82000]]\n",
    "m = pd.DataFrame(dt, columns=[\"Name\",\"Salary\"])\n",
    "print(m)"
   ]
  },
  {
   "cell_type": "code",
   "execution_count": 26,
   "metadata": {},
   "outputs": [
    {
     "name": "stdout",
     "output_type": "stream",
     "text": [
      "     Name  Salary\n",
      "0     Bob   80000\n",
      "1   Alice   85000\n",
      "2  Claire   82000\n"
     ]
    }
   ],
   "source": [
    "dt = {\"Name\":[\"Bob\",\"Alice\",\"Claire\"], \"Salary\":[80000,85000,82000] }\n",
    "n = pd.DataFrame(dt)\n",
    "print(n)"
   ]
  },
  {
   "cell_type": "code",
   "execution_count": 27,
   "metadata": {},
   "outputs": [
    {
     "name": "stdout",
     "output_type": "stream",
     "text": [
      "        Name  Salary\n",
      "no.1     Bob   80000\n",
      "no.2   Alice   85000\n",
      "no.3  Claire   82000\n"
     ]
    }
   ],
   "source": [
    "dt = {\"Name\":[\"Bob\",\"Alice\",\"Claire\"], \"Salary\":[80000,85000,82000] }\n",
    "o = pd.DataFrame(dt, index=[\"no.1\",\"no.2\",\"no.3\"])\n",
    "print(o)"
   ]
  },
  {
   "cell_type": "code",
   "execution_count": 28,
   "metadata": {},
   "outputs": [
    {
     "name": "stdout",
     "output_type": "stream",
     "text": [
      "      Bob  Alice   Claire\n",
      "Q1  80000  85000  82000.0\n",
      "Q2  83000  89000      NaN\n"
     ]
    }
   ],
   "source": [
    "dt = [{\"Bob\":80000,\"Alice\":85000,\"Claire\":82000},{\"Bob\":83000,\"Alice\":89000}]\n",
    "p = pd.DataFrame(dt, index=[\"Q1\",\"Q2\"])\n",
    "print(p)"
   ]
  },
  {
   "cell_type": "code",
   "execution_count": 29,
   "metadata": {},
   "outputs": [
    {
     "name": "stdout",
     "output_type": "stream",
     "text": [
      "  Name Attendence  Marks\n",
      "0    X          P     75\n",
      "1    Y          P     86\n",
      "2    Z          A     90\n",
      "3    E          P     84\n"
     ]
    }
   ],
   "source": [
    "dt = {\"Name\":[\"X\",\"Y\",\"Z\",\"E\"],\"Attendence\":[\"P\",\"P\",\"A\",\"P\"],\"Marks\":[75,86,90,84]}\n",
    "q = pd.DataFrame(dt)\n",
    "print(q)"
   ]
  },
  {
   "cell_type": "code",
   "execution_count": 30,
   "metadata": {},
   "outputs": [
    {
     "name": "stdout",
     "output_type": "stream",
     "text": [
      "  Name Attendence  Marks\n",
      "1    Y          P     86\n",
      "2    Z          A     90\n"
     ]
    }
   ],
   "source": [
    "print(q[1:3])"
   ]
  },
  {
   "cell_type": "code",
   "execution_count": 31,
   "metadata": {},
   "outputs": [
    {
     "name": "stdout",
     "output_type": "stream",
     "text": [
      "  Name Attendence  Marks\n",
      "0    X          P     75\n",
      "1    Y          P     86\n",
      "2    Z          A     90\n"
     ]
    }
   ],
   "source": [
    "print(q[:-1])"
   ]
  },
  {
   "cell_type": "code",
   "execution_count": 32,
   "metadata": {},
   "outputs": [
    {
     "name": "stdout",
     "output_type": "stream",
     "text": [
      "  Name Attendence  Marks\n",
      "3    E          P     84\n"
     ]
    }
   ],
   "source": [
    "print(q[-1:])"
   ]
  },
  {
   "cell_type": "code",
   "execution_count": 33,
   "metadata": {},
   "outputs": [
    {
     "name": "stdout",
     "output_type": "stream",
     "text": [
      "  Name Attendence  Marks\n",
      "0    X          P     75\n",
      "1    Y          P     86\n"
     ]
    }
   ],
   "source": [
    "print(q.head(2))"
   ]
  },
  {
   "cell_type": "code",
   "execution_count": 34,
   "metadata": {},
   "outputs": [
    {
     "name": "stdout",
     "output_type": "stream",
     "text": [
      "  Name Attendence  Marks\n",
      "2    Z          A     90\n",
      "3    E          P     84\n"
     ]
    }
   ],
   "source": [
    "print(q.tail(2))"
   ]
  },
  {
   "cell_type": "code",
   "execution_count": 35,
   "metadata": {},
   "outputs": [
    {
     "name": "stdout",
     "output_type": "stream",
     "text": [
      "     Name  Subjects  Marks\n",
      "2001    Q         2     50\n",
      "2002    W         1     45\n",
      "2003    E         2     45\n",
      "2004    R         3     67\n"
     ]
    }
   ],
   "source": [
    "df1= pd.DataFrame({ \"Name\":[\"Q\",\"W\",\"E\",\"R\"],\"Subjects\":[2,1,2,3],\"Marks\":[50,45,45,67]}, index=[2001, 2002,2003,2004])\n",
    "print(df1)"
   ]
  },
  {
   "cell_type": "code",
   "execution_count": 36,
   "metadata": {},
   "outputs": [
    {
     "name": "stdout",
     "output_type": "stream",
     "text": [
      "     Name  Subjects  Marks\n",
      "2005    Q         2     50\n",
      "2006    W         1     45\n",
      "2007    E         2     45\n",
      "2008    R         3     67\n"
     ]
    }
   ],
   "source": [
    "df2=pd.DataFrame({ \"Name\":[\"Q\",\"W\",\"E\",\"R\"],\"Subjects\":[2,1,2,3],\"Marks\":[50,45,45,67]}, index=[2005, 2006,2007,2008])\n",
    "print(df2)"
   ]
  },
  {
   "cell_type": "code",
   "execution_count": 37,
   "metadata": {},
   "outputs": [
    {
     "name": "stdout",
     "output_type": "stream",
     "text": [
      "  Name  Subjects  Marks\n",
      "0    Q         2     50\n",
      "1    W         1     45\n",
      "2    E         2     45\n",
      "3    R         3     67\n"
     ]
    }
   ],
   "source": [
    "print(pd.merge(df1,df2))"
   ]
  },
  {
   "cell_type": "code",
   "execution_count": 38,
   "metadata": {},
   "outputs": [
    {
     "name": "stdout",
     "output_type": "stream",
     "text": [
      "  Name  Subjects_x  Marks_x  Subjects_y  Marks_y\n",
      "0    Q           2       50           2       50\n",
      "1    W           1       45           1       45\n",
      "2    E           2       45           2       45\n",
      "3    R           3       67           3       67\n"
     ]
    }
   ],
   "source": [
    "print(pd.merge(df1,df2,on=\"Name\"))"
   ]
  },
  {
   "cell_type": "code",
   "execution_count": 39,
   "metadata": {},
   "outputs": [
    {
     "name": "stdout",
     "output_type": "stream",
     "text": [
      "     Name  Subjects  Marks\n",
      "2001    Q         2     50\n",
      "2002    W         1     45\n",
      "2003    E         2     45\n",
      "2004    R         3     67\n",
      "2005    Q         2     50\n",
      "2006    W         1     45\n",
      "2007    E         2     45\n",
      "2008    R         3     67\n"
     ]
    }
   ],
   "source": [
    "print(pd.concat([df1,df2]))"
   ]
  },
  {
   "cell_type": "code",
   "execution_count": 40,
   "metadata": {},
   "outputs": [
    {
     "name": "stdout",
     "output_type": "stream",
     "text": [
      "     Name  Subjects  Marks\n",
      "2001    Q         2     50\n",
      "2002    W         1     45\n",
      "2003    E         2     45\n",
      "2004    R         3     67\n",
      "2005    Q         2     50\n",
      "2006    W         1     45\n",
      "2007    E         2     45\n",
      "2008    R         3     67\n"
     ]
    }
   ],
   "source": [
    "r = pd.concat([df1,df2],axis=0)\n",
    "print(r)"
   ]
  },
  {
   "cell_type": "code",
   "execution_count": 41,
   "metadata": {},
   "outputs": [
    {
     "name": "stdout",
     "output_type": "stream",
     "text": [
      "     Name  Subjects  Marks Name  Subjects  Marks\n",
      "2001    Q       2.0   50.0  NaN       NaN    NaN\n",
      "2002    W       1.0   45.0  NaN       NaN    NaN\n",
      "2003    E       2.0   45.0  NaN       NaN    NaN\n",
      "2004    R       3.0   67.0  NaN       NaN    NaN\n",
      "2005  NaN       NaN    NaN    Q       2.0   50.0\n",
      "2006  NaN       NaN    NaN    W       1.0   45.0\n",
      "2007  NaN       NaN    NaN    E       2.0   45.0\n",
      "2008  NaN       NaN    NaN    R       3.0   67.0\n"
     ]
    }
   ],
   "source": [
    "s = pd.concat([df1,df2],axis=1)\n",
    "print(s)"
   ]
  },
  {
   "cell_type": "code",
   "execution_count": 42,
   "metadata": {},
   "outputs": [
    {
     "name": "stdout",
     "output_type": "stream",
     "text": [
      "  Name  Subjects  Marks\n",
      "0    Q         2     50\n",
      "1    W         1     45\n",
      "2    E         2     45\n",
      "3    R         3     67\n"
     ]
    }
   ],
   "source": [
    "df1= pd.DataFrame({ \"Name\":[\"Q\",\"W\",\"E\",\"R\"],\"Subjects\":[2,1,2,3],\"Marks\":[50,45,45,67]})\n",
    "print(df1)"
   ]
  },
  {
   "cell_type": "code",
   "execution_count": 43,
   "metadata": {},
   "outputs": [
    {
     "name": "stdout",
     "output_type": "stream",
     "text": [
      "      Subjects  Marks\n",
      "Name                 \n",
      "Q            2     50\n",
      "W            1     45\n",
      "E            2     45\n",
      "R            3     67\n"
     ]
    }
   ],
   "source": [
    "df1.set_index(\"Name\",inplace=True)\n",
    "print(df1)"
   ]
  },
  {
   "cell_type": "code",
   "execution_count": 44,
   "metadata": {},
   "outputs": [
    {
     "name": "stdout",
     "output_type": "stream",
     "text": [
      "          Marks\n",
      "Subjects       \n",
      "2            50\n",
      "1            45\n",
      "2            45\n",
      "3            67\n"
     ]
    }
   ],
   "source": [
    "df1.set_index(\"Subjects\",inplace=True)\n",
    "print(df1)"
   ]
  },
  {
   "cell_type": "code",
   "execution_count": 45,
   "metadata": {},
   "outputs": [
    {
     "name": "stdout",
     "output_type": "stream",
     "text": [
      "          Marks\n",
      "Subjects       \n",
      "2            50\n",
      "1            45\n",
      "2            45\n",
      "3            67\n"
     ]
    }
   ],
   "source": [
    "print(df1.rename(columns={\"Name\":\"Candidate\"}))"
   ]
  },
  {
   "cell_type": "code",
   "execution_count": 46,
   "metadata": {},
   "outputs": [
    {
     "data": {
      "text/html": [
       "<div>\n",
       "<style scoped>\n",
       "    .dataframe tbody tr th:only-of-type {\n",
       "        vertical-align: middle;\n",
       "    }\n",
       "\n",
       "    .dataframe tbody tr th {\n",
       "        vertical-align: top;\n",
       "    }\n",
       "\n",
       "    .dataframe thead th {\n",
       "        text-align: right;\n",
       "    }\n",
       "</style>\n",
       "<table border=\"1\" class=\"dataframe\">\n",
       "  <thead>\n",
       "    <tr style=\"text-align: right;\">\n",
       "      <th>Subjects</th>\n",
       "      <th>2</th>\n",
       "      <th>1</th>\n",
       "      <th>2</th>\n",
       "      <th>3</th>\n",
       "    </tr>\n",
       "  </thead>\n",
       "  <tbody>\n",
       "    <tr>\n",
       "      <th>Marks</th>\n",
       "      <td>50</td>\n",
       "      <td>45</td>\n",
       "      <td>45</td>\n",
       "      <td>67</td>\n",
       "    </tr>\n",
       "  </tbody>\n",
       "</table>\n",
       "</div>"
      ],
      "text/plain": [
       "Subjects   2   1   2   3\n",
       "Marks     50  45  45  67"
      ]
     },
     "execution_count": 46,
     "metadata": {},
     "output_type": "execute_result"
    }
   ],
   "source": [
    "df1.T"
   ]
  },
  {
   "cell_type": "code",
   "execution_count": 47,
   "metadata": {},
   "outputs": [
    {
     "name": "stdout",
     "output_type": "stream",
     "text": [
      "Marks    207\n",
      "dtype: int64\n"
     ]
    }
   ],
   "source": [
    "total = np.sum(df1)\n",
    "print(total)"
   ]
  },
  {
   "cell_type": "code",
   "execution_count": 48,
   "metadata": {},
   "outputs": [
    {
     "data": {
      "text/plain": [
       "4"
      ]
     },
     "execution_count": 48,
     "metadata": {},
     "output_type": "execute_result"
    }
   ],
   "source": [
    "len(df1)"
   ]
  },
  {
   "cell_type": "code",
   "execution_count": 49,
   "metadata": {},
   "outputs": [
    {
     "data": {
      "text/plain": [
       "Marks    67\n",
       "Name: 3, dtype: int64"
      ]
     },
     "execution_count": 49,
     "metadata": {},
     "output_type": "execute_result"
    }
   ],
   "source": [
    "df1.loc[3]"
   ]
  }
 ],
 "metadata": {
  "kernelspec": {
   "display_name": "Python 3",
   "language": "python",
   "name": "python3"
  },
  "language_info": {
   "codemirror_mode": {
    "name": "ipython",
    "version": 3
   },
   "file_extension": ".py",
   "mimetype": "text/x-python",
   "name": "python",
   "nbconvert_exporter": "python",
   "pygments_lexer": "ipython3",
   "version": "3.7.3"
  }
 },
 "nbformat": 4,
 "nbformat_minor": 2
}
