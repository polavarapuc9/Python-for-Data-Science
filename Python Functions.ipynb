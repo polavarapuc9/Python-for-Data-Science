{
 "cells": [
  {
   "cell_type": "markdown",
   "metadata": {},
   "source": [
    "# Python - Functions"
   ]
  },
  {
   "cell_type": "markdown",
   "metadata": {},
   "source": [
    "Functions in programming language perform a specific task. Code reusability is possible.\n",
    "for example print() is a simple function that prints the message/output. "
   ]
  },
  {
   "cell_type": "markdown",
   "metadata": {},
   "source": [
    "In python the functions can be divided as \n",
    "1. Build-in functions \n",
    "2. User-defined functions\n",
    "3. Anonymous(lambda) functions\n",
    "4. Recursive functions"
   ]
  },
  {
   "cell_type": "markdown",
   "metadata": {},
   "source": [
    "1. Built-in functions\n",
    "\n",
    "Python consists of several built-in functions. \n",
    "Examples: print(), input(), list(), tuple(), set(), min(), max(), round(), abs()....etc"
   ]
  },
  {
   "cell_type": "markdown",
   "metadata": {},
   "source": [
    "2. User-define functions\n",
    "\n",
    "As a user we can create a function that performs the statements given inside it.\n",
    "Generally, \"def\" is the keyword used to define a function."
   ]
  },
  {
   "cell_type": "code",
   "execution_count": 1,
   "metadata": {
    "scrolled": true
   },
   "outputs": [
    {
     "name": "stdout",
     "output_type": "stream",
     "text": [
      "sample user-defined function \n",
      "3\n"
     ]
    }
   ],
   "source": [
    "def functionname(parameter):\n",
    "    \"\"\"sample user-defined function \"\"\" \n",
    "    o = parameter + 1          #statement\n",
    "    print(functionname.__doc__) #prints docstring\n",
    "    print(o)\n",
    "    \n",
    "\n",
    "functionname(2) #calling function with 2 as argument"
   ]
  },
  {
   "cell_type": "code",
   "execution_count": 2,
   "metadata": {},
   "outputs": [
    {
     "name": "stdout",
     "output_type": "stream",
     "text": [
      "10\n"
     ]
    }
   ],
   "source": [
    "def addition(a,b):\n",
    "    \"\"\"This function adds a and b\"\"\"\n",
    "    return (a+b)\n",
    "\n",
    "c = addition(5,5)\n",
    "print(c)"
   ]
  },
  {
   "cell_type": "code",
   "execution_count": 3,
   "metadata": {},
   "outputs": [
    {
     "name": "stdout",
     "output_type": "stream",
     "text": [
      "4\n"
     ]
    }
   ],
   "source": [
    "def substraction(i,j=1):\n",
    "    \"\"\"This function adds a and b\"\"\"\n",
    "    return (i-j)\n",
    "\n",
    "k = substraction(5,j=1)\n",
    "print(k)"
   ]
  },
  {
   "cell_type": "markdown",
   "metadata": {},
   "source": [
    "3. Anonymous (lambda) functions are functions without any name used only once in whole program."
   ]
  },
  {
   "cell_type": "code",
   "execution_count": 4,
   "metadata": {},
   "outputs": [
    {
     "name": "stdout",
     "output_type": "stream",
     "text": [
      "4\n"
     ]
    }
   ],
   "source": [
    "a = lambda x : x**2\n",
    "print(a(2))"
   ]
  },
  {
   "cell_type": "code",
   "execution_count": 5,
   "metadata": {},
   "outputs": [
    {
     "name": "stdout",
     "output_type": "stream",
     "text": [
      "[3, 5, 7, 9, 11]\n"
     ]
    }
   ],
   "source": [
    "b = [2,4,6,8,10]\n",
    "c = list(map(lambda i : i+1 , b))\n",
    "print(c)  "
   ]
  },
  {
   "cell_type": "code",
   "execution_count": 6,
   "metadata": {},
   "outputs": [
    {
     "name": "stdout",
     "output_type": "stream",
     "text": [
      "[12, 24, 36, 48]\n"
     ]
    }
   ],
   "source": [
    "e = [12,24,36,48,510]\n",
    "f = list(filter(lambda i : i<100 , e))\n",
    "print(f)"
   ]
  },
  {
   "cell_type": "markdown",
   "metadata": {},
   "source": [
    "4. Recursive functions\n",
    "    function that is written in such a way it calls itself until a condition is meet or else it will get into infinite recursive mode. \n",
    "    \n",
    "    Here in next two cells shows how recursive and iterative loops differ.\n",
    "    "
   ]
  },
  {
   "cell_type": "code",
   "execution_count": 7,
   "metadata": {},
   "outputs": [
    {
     "data": {
      "text/plain": [
       "3628800"
      ]
     },
     "execution_count": 7,
     "metadata": {},
     "output_type": "execute_result"
    }
   ],
   "source": [
    "# Recursive - calling function during run\n",
    "def fac(n):\n",
    "    if (n<=1):\n",
    "        return(1) \n",
    "    else:\n",
    "        return(n * fac(n-1))\n",
    "\n",
    "fac(10)"
   ]
  },
  {
   "cell_type": "code",
   "execution_count": 8,
   "metadata": {},
   "outputs": [
    {
     "name": "stdout",
     "output_type": "stream",
     "text": [
      "3628800\n"
     ]
    }
   ],
   "source": [
    "# Iterative - loops over a condition\n",
    "def num(n):\n",
    "    fac = 1\n",
    "    if (n<=1):\n",
    "        return 1\n",
    "    else:\n",
    "        for i in range(1,n+1):\n",
    "            fac=fac*i\n",
    "        print(fac)\n",
    "        \n",
    "num(10)  "
   ]
  },
  {
   "cell_type": "markdown",
   "metadata": {},
   "source": [
    "From above two cells we can differentiate easily recursive vs. Iteration\n",
    "i.  recursive and iteration produces same result for a given problem.\n",
    "ii. recursive code is simpler to understand when compared to iteration."
   ]
  }
 ],
 "metadata": {
  "kernelspec": {
   "display_name": "Python 3",
   "language": "python",
   "name": "python3"
  },
  "language_info": {
   "codemirror_mode": {
    "name": "ipython",
    "version": 3
   },
   "file_extension": ".py",
   "mimetype": "text/x-python",
   "name": "python",
   "nbconvert_exporter": "python",
   "pygments_lexer": "ipython3",
   "version": "3.7.3"
  }
 },
 "nbformat": 4,
 "nbformat_minor": 2
}
