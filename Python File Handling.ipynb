{
 "cells": [
  {
   "cell_type": "markdown",
   "metadata": {},
   "source": [
    "# File handling in python"
   ]
  },
  {
   "cell_type": "markdown",
   "metadata": {},
   "source": [
    "Basic features for file handling in Python are\n",
    "\n",
    "1.Open\n",
    "2.Read\n",
    "3.Write\n",
    "4.Delete\n",
    "5.Close"
   ]
  },
  {
   "cell_type": "markdown",
   "metadata": {},
   "source": [
    "   Open takes two parameters (\"filepath\",\"mode\").\n",
    "   Here mode specifies how the file to be handled.\n",
    "   modes-r(read),w(write),rb(read in binary),wb(write in binary),r+(r and  w),w+(w and r),a(append)"
   ]
  },
  {
   "cell_type": "code",
   "execution_count": 1,
   "metadata": {
    "scrolled": true
   },
   "outputs": [],
   "source": [
    "# Creates a text.txt file in the directory\n",
    "a = open(\"text.txt\",\"w\")\n",
    "a.close()"
   ]
  },
  {
   "cell_type": "code",
   "execution_count": 2,
   "metadata": {},
   "outputs": [
    {
     "name": "stdout",
     "output_type": "stream",
     "text": [
      "\n"
     ]
    }
   ],
   "source": [
    "# Open the text.txt file\n",
    "b = open(\"text.txt\",\"r\")\n",
    "print(b.read()) #No data in the file\n",
    "b.close()"
   ]
  },
  {
   "cell_type": "code",
   "execution_count": 3,
   "metadata": {},
   "outputs": [],
   "source": [
    "# Writing to text.txt file\n",
    "c = open(\"text.txt\",\"w\")\n",
    "c.write(\"Hello!\\nThis is Python.\")\n",
    "c.close()"
   ]
  },
  {
   "cell_type": "code",
   "execution_count": 4,
   "metadata": {},
   "outputs": [
    {
     "name": "stdout",
     "output_type": "stream",
     "text": [
      "Hello!\n",
      "This is Python.\n"
     ]
    }
   ],
   "source": [
    "# Reading the text.txt file\n",
    "d = open(\"text.txt\",\"r\")\n",
    "print(d.read())\n",
    "d.close()"
   ]
  },
  {
   "cell_type": "code",
   "execution_count": 5,
   "metadata": {},
   "outputs": [
    {
     "name": "stdout",
     "output_type": "stream",
     "text": [
      "a\n"
     ]
    }
   ],
   "source": [
    "# Appending to text.txt file\n",
    "e = open(\"text.txt\",\"a\")\n",
    "e.writelines(\"\\nA \\nB \\nC \\nD \\nE\")\n",
    "print(e.mode)\n",
    "e.close()"
   ]
  },
  {
   "cell_type": "code",
   "execution_count": 6,
   "metadata": {},
   "outputs": [
    {
     "name": "stdout",
     "output_type": "stream",
     "text": [
      "text.txt\n",
      "Hello!\n",
      "This is Python.\n",
      "A \n",
      "B \n",
      "C \n",
      "D \n",
      "E\n"
     ]
    }
   ],
   "source": [
    "# Updated content in text.txt file\n",
    "f = open(\"text.txt\",\"r\")\n",
    "print(f.name)\n",
    "print(f.read())\n",
    "f.close()"
   ]
  },
  {
   "cell_type": "code",
   "execution_count": 7,
   "metadata": {},
   "outputs": [],
   "source": [
    "# Renaming text.txt file\n",
    "import os\n",
    "os.rename(\"text.txt\",\"new.txt\")"
   ]
  },
  {
   "cell_type": "code",
   "execution_count": 8,
   "metadata": {},
   "outputs": [],
   "source": [
    "# Deleting new.txt file\n",
    "import os\n",
    "os.remove(\"new.txt\")"
   ]
  }
 ],
 "metadata": {
  "kernelspec": {
   "display_name": "Python 3",
   "language": "python",
   "name": "python3"
  },
  "language_info": {
   "codemirror_mode": {
    "name": "ipython",
    "version": 3
   },
   "file_extension": ".py",
   "mimetype": "text/x-python",
   "name": "python",
   "nbconvert_exporter": "python",
   "pygments_lexer": "ipython3",
   "version": "3.7.3"
  }
 },
 "nbformat": 4,
 "nbformat_minor": 2
}
