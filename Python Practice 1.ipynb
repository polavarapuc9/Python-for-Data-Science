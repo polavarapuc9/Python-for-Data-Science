{
 "cells": [
  {
   "cell_type": "code",
   "execution_count": 1,
   "metadata": {},
   "outputs": [
    {
     "name": "stdout",
     "output_type": "stream",
     "text": [
      "Enter the comma seperated sequence: 100, 150, 180\n",
      "Output:  18,22,24\n"
     ]
    }
   ],
   "source": [
    "import math\n",
    "C=50\n",
    "H=30\n",
    "d=input(\"Enter the comma seperated sequence: \")\n",
    "D=d.split(\",\")\n",
    "new=[]\n",
    "for i in D:\n",
    "    Q = new.append(str(int(math.floor(math.sqrt((2 * C * float(i)/H))))))\n",
    "print(\"Output: \",\",\".join(new))"
   ]
  },
  {
   "cell_type": "code",
   "execution_count": 2,
   "metadata": {},
   "outputs": [
    {
     "name": "stdout",
     "output_type": "stream",
     "text": [
      "Please enter your sequence of words:  without, hello, bag, world\n",
      "Output:   bag, hello, without, world\n"
     ]
    }
   ],
   "source": [
    "i=str(input(\"Please enter your sequence of words: \"))\n",
    "I=i.split(\",\")\n",
    "new=[]\n",
    "I.sort()\n",
    "J=new.append(\",\".join(I))\n",
    "print(\"Output: \",\",\".join(new))"
   ]
  },
  {
   "cell_type": "code",
   "execution_count": 3,
   "metadata": {},
   "outputs": [
    {
     "name": "stdout",
     "output_type": "stream",
     "text": [
      "Enter your message: Hello world Practice makes perfect\n",
      "Output: HELLO WORLD PRACTICE MAKES PERFECT\n"
     ]
    }
   ],
   "source": [
    "i=str(input(\"Enter your message: \"))\n",
    "I=i.upper()\n",
    "print (\"Output:\",I)"
   ]
  },
  {
   "cell_type": "code",
   "execution_count": 4,
   "metadata": {},
   "outputs": [
    {
     "name": "stdout",
     "output_type": "stream",
     "text": [
      "Please enter your sequence of words: hello world and practice makes perfect and hello world again\n",
      "Output: again and hello makes perfect practice world\n"
     ]
    }
   ],
   "source": [
    "i=str(input(\"Please enter your sequence of words: \"))\n",
    "I=i.split(\" \")\n",
    "new=set(I)\n",
    "print(\"Output:\",\" \".join(sorted(new)))"
   ]
  },
  {
   "cell_type": "code",
   "execution_count": 5,
   "metadata": {},
   "outputs": [
    {
     "name": "stdout",
     "output_type": "stream",
     "text": [
      "Enter the comma seperated sequence: 0100,0011,1010,1001\n",
      "Output: 1010\n"
     ]
    }
   ],
   "source": [
    "i=input(\"Enter the comma seperated sequence: \")\n",
    "I=i.split(\",\")\n",
    "new=[]\n",
    "for i in I:\n",
    "    bin_i=int(i,2)\n",
    "    if ((bin_i%5)==0):\n",
    "        new.append(i)\n",
    "    else:\n",
    "        continue\n",
    "    print(\"Output:\" ,\",\".join(new))"
   ]
  },
  {
   "cell_type": "code",
   "execution_count": 6,
   "metadata": {},
   "outputs": [
    {
     "name": "stdout",
     "output_type": "stream",
     "text": [
      "[ 2 0 0 0 ,   2 0 0 2 ,   2 0 0 4 ,   2 0 0 6 ,   2 0 0 8 ,   2 0 2 0 ,   2 0 2 2 ,   2 0 2 4 ,   2 0 2 6 ,   2 0 2 8 ,   2 0 4 0 ,   2 0 4 2 ,   2 0 4 4 ,   2 0 4 6 ,   2 0 4 8 ,   2 0 6 0 ,   2 0 6 2 ,   2 0 6 4 ,   2 0 6 6 ,   2 0 6 8 ,   2 0 8 0 ,   2 0 8 2 ,   2 0 8 4 ,   2 0 8 6 ,   2 0 8 8 ,   2 2 0 0 ,   2 2 0 2 ,   2 2 0 4 ,   2 2 0 6 ,   2 2 0 8 ,   2 2 2 0 ,   2 2 2 2 ,   2 2 2 4 ,   2 2 2 6 ,   2 2 2 8 ,   2 2 4 0 ,   2 2 4 2 ,   2 2 4 4 ,   2 2 4 6 ,   2 2 4 8 ,   2 2 6 0 ,   2 2 6 2 ,   2 2 6 4 ,   2 2 6 6 ,   2 2 6 8 ,   2 2 8 0 ,   2 2 8 2 ,   2 2 8 4 ,   2 2 8 6 ,   2 2 8 8 ,   2 4 0 0 ,   2 4 0 2 ,   2 4 0 4 ,   2 4 0 6 ,   2 4 0 8 ,   2 4 2 0 ,   2 4 2 2 ,   2 4 2 4 ,   2 4 2 6 ,   2 4 2 8 ,   2 4 4 0 ,   2 4 4 2 ,   2 4 4 4 ,   2 4 4 6 ,   2 4 4 8 ,   2 4 6 0 ,   2 4 6 2 ,   2 4 6 4 ,   2 4 6 6 ,   2 4 6 8 ,   2 4 8 0 ,   2 4 8 2 ,   2 4 8 4 ,   2 4 8 6 ,   2 4 8 8 ,   2 6 0 0 ,   2 6 0 2 ,   2 6 0 4 ,   2 6 0 6 ,   2 6 0 8 ,   2 6 2 0 ,   2 6 2 2 ,   2 6 2 4 ,   2 6 2 6 ,   2 6 2 8 ,   2 6 4 0 ,   2 6 4 2 ,   2 6 4 4 ,   2 6 4 6 ,   2 6 4 8 ,   2 6 6 0 ,   2 6 6 2 ,   2 6 6 4 ,   2 6 6 6 ,   2 6 6 8 ,   2 6 8 0 ,   2 6 8 2 ,   2 6 8 4 ,   2 6 8 6 ,   2 6 8 8 ,   2 8 0 0 ,   2 8 0 2 ,   2 8 0 4 ,   2 8 0 6 ,   2 8 0 8 ,   2 8 2 0 ,   2 8 2 2 ,   2 8 2 4 ,   2 8 2 6 ,   2 8 2 8 ,   2 8 4 0 ,   2 8 4 2 ,   2 8 4 4 ,   2 8 4 6 ,   2 8 4 8 ,   2 8 6 0 ,   2 8 6 2 ,   2 8 6 4 ,   2 8 6 6 ,   2 8 6 8 ,   2 8 8 0 ,   2 8 8 2 ,   2 8 8 4 ,   2 8 8 6 ,   2 8 8 8 ]\n"
     ]
    }
   ],
   "source": [
    "new=[]\n",
    "for i in range(1000,3001):\n",
    "    j=str(i)\n",
    "    if (int(j[0])%2==0 and int(j[1])%2==0 and int(j[2])%2==0 and int(j[3])%2==0):\n",
    "        new.append(i)\n",
    "    else:\n",
    "        continue\n",
    "print(\" \".join(str(new)))"
   ]
  },
  {
   "cell_type": "code",
   "execution_count": 7,
   "metadata": {},
   "outputs": [
    {
     "name": "stdout",
     "output_type": "stream",
     "text": [
      "Enter your message: hello world! 123 \n",
      "LETTERS 10\n",
      "DIGITS 3\n"
     ]
    }
   ],
   "source": [
    "I=input(\"Enter your message: \")\n",
    "n_l=0\n",
    "n_d=0\n",
    "for i in I:\n",
    "    if (i.isalpha()):\n",
    "        n_l+=1\n",
    "    elif (i.isdigit()):\n",
    "        n_d+=1\n",
    "    else:\n",
    "        continue\n",
    "print(\"LETTERS\", n_l)\n",
    "print(\"DIGITS\", n_d)"
   ]
  },
  {
   "cell_type": "code",
   "execution_count": 8,
   "metadata": {},
   "outputs": [
    {
     "name": "stdout",
     "output_type": "stream",
     "text": [
      "Enter your message: Hello world!\n",
      "UPPERCASE 1\n",
      "LOWECASE 9\n"
     ]
    }
   ],
   "source": [
    "I=input(\"Enter your message: \")\n",
    "n_uc=0\n",
    "n_lc=0\n",
    "for i in I:\n",
    "    if (i.isupper()):\n",
    "        n_uc+=1\n",
    "    elif (i.islower()):\n",
    "        n_lc+=1\n",
    "    else:\n",
    "        continue\n",
    "print(\"UPPERCASE\", n_uc)\n",
    "print(\"LOWECASE\", n_lc)"
   ]
  },
  {
   "cell_type": "code",
   "execution_count": 9,
   "metadata": {},
   "outputs": [
    {
     "name": "stdout",
     "output_type": "stream",
     "text": [
      "Enter the value:9\n",
      "Output: 11106\n"
     ]
    }
   ],
   "source": [
    "i=str(input(\"Enter the value:\"))\n",
    "a1=i*1\n",
    "a2=i*2\n",
    "a3=i*3\n",
    "a4=i*4\n",
    "result=int(a1)+int(a2)+int(a3)+int(a4)\n",
    "print(\"Output:\",result)"
   ]
  },
  {
   "cell_type": "code",
   "execution_count": 10,
   "metadata": {},
   "outputs": [
    {
     "name": "stdout",
     "output_type": "stream",
     "text": [
      "Please enter your sequence: 1,2,3,4,5,6,7,8,9\n",
      "Output: 1,3,5,7,9\n"
     ]
    }
   ],
   "source": [
    "i=input(\"Please enter your sequence: \")\n",
    "I=i.split(\",\")\n",
    "out=[]\n",
    "for i in I:\n",
    "    if ((int(i)%2)!=0):\n",
    "        #o=int(i)*int(i)\n",
    "        #out.append(o)\n",
    "        out.append(i)\n",
    "    else:\n",
    "        continue\n",
    "print(\"Output:\",\",\".join(out))"
   ]
  },
  {
   "cell_type": "code",
   "execution_count": 11,
   "metadata": {},
   "outputs": [
    {
     "name": "stdout",
     "output_type": "stream",
     "text": [
      "Enter input:D 300\n",
      "Do you wish to continue(Y or N):y\n",
      "Enter input:D 300\n",
      "Do you wish to continue(Y or N):y\n",
      "Enter input:W 200\n",
      "Do you wish to continue(Y or N):y\n",
      "Enter input:D 100\n",
      "Do you wish to continue(Y or N):n\n",
      "------Here is your balance------\n",
      "Balance: 500\n"
     ]
    }
   ],
   "source": [
    "balance=0\n",
    "while True:\n",
    "    i=input(\"Enter input:\")\n",
    "    I=i.split(\" \")\n",
    "    log=I[0]\n",
    "    amount=int(I[1])\n",
    "    if(log==\"w\" or log==\"W\"):\n",
    "        balance-=amount\n",
    "    elif(log==\"d\" or log==\"D\"):\n",
    "        balance+=amount\n",
    "    else:\n",
    "        print(\"Error:WRONG INPUT \\nEnter correctly eg. w 100\")\n",
    "        continue\n",
    "    i=input(\"Do you wish to continue(Y or N):\")\n",
    "    if (i[0]==\"Y\" or i[0]==\"y\"):\n",
    "        continue\n",
    "    else:\n",
    "        print(\"------Here is your balance------\")\n",
    "        break\n",
    "print(\"Balance:\",balance)"
   ]
  },
  {
   "cell_type": "code",
   "execution_count": 12,
   "metadata": {},
   "outputs": [
    {
     "name": "stdout",
     "output_type": "stream",
     "text": [
      "Enter input in name,age,height:Tom,19,80\n",
      "Enter input in name,age,height:John,20,90\n",
      "Enter input in name,age,height:Jony,17,91\n",
      "Enter input in name,age,height:Jony,17,93\n",
      "Enter input in name,age,height:Json,21,85\n",
      "Enter input in name,age,height:\n",
      "[('John', '20', '90'), ('Jony', '17', '91'), ('Jony', '17', '93'), ('Json', '21', '85'), ('Tom', '19', '80')]\n"
     ]
    }
   ],
   "source": [
    "from operator import itemgetter\n",
    "l=[]\n",
    "while True:\n",
    "    i=input(\"Enter input in name,age,height:\")\n",
    "    if not i:\n",
    "        break\n",
    "    I=i.split(\",\")\n",
    "    l.append(tuple(I))\n",
    "priority=itemgetter(0, 1, 2)\n",
    "o=sorted(l, key=priority)\n",
    "print(o)"
   ]
  },
  {
   "cell_type": "code",
   "execution_count": 13,
   "metadata": {},
   "outputs": [
    {
     "name": "stdout",
     "output_type": "stream",
     "text": [
      "Enter the passwords:ABd1234@1, a F1#, 2w3E*, 2We3345\n",
      "Output: ABd1234@1\n"
     ]
    }
   ],
   "source": [
    "import re\n",
    "p=input(\"Enter the passwords:\")\n",
    "q=\",\".join(p.split(\",\"))\n",
    "r=q.replace(\" \", \"\")\n",
    "I=r.split(\",\")\n",
    "valid=[]\n",
    "for i in I:\n",
    "    \n",
    "    if (len(i) in range(6,13)) and (re.search(\"[a-z]\",i)) and (re.search(\"[0-9]\",i)) and (re.search(\"[A-Z]\",i)) and (re.search(\"[$#@]\",i)):\n",
    "        o=valid.append(i)\n",
    "    else:\n",
    "        continue\n",
    "    print(\"Output:\",\",\".join(valid))"
   ]
  },
  {
   "cell_type": "code",
   "execution_count": 14,
   "metadata": {},
   "outputs": [
    {
     "name": "stdout",
     "output_type": "stream",
     "text": [
      "Please initial amount:1500\n",
      "Welcome to Bank\n",
      "please enter 4-digit PIN: 1234\n",
      "Select your Option\n",
      "b---->Balance\n",
      "w---->withdrawl\n",
      "d---->Deposit\n",
      "c---->Cancel\n",
      "Please enter your choice: d\n",
      "Please enter the amount to deposit:500\n",
      "Your Previous balance is 1500 Rupees\n",
      "Your Current balance is 2000 Rupees\n",
      "please enter 4-digit PIN: 1234\n",
      "Select your Option\n",
      "b---->Balance\n",
      "w---->withdrawl\n",
      "d---->Deposit\n",
      "c---->Cancel\n",
      "Please enter your choice: c\n",
      "Thank you for banking with Us\n",
      "Collect your card\n"
     ]
    }
   ],
   "source": [
    "initialbal=int(input(\"Please initial amount:\"))\n",
    "updatedbal=0\n",
    "print(\"Welcome to Bank\")\n",
    "while True:\n",
    "    ia=int(input(\"please enter 4-digit PIN: \"))\n",
    "    if (ia > 999 and ia <10000 ):\n",
    "        pass\n",
    "    else:\n",
    "        print(\"Wrong PIN\")\n",
    "        i=input(\"Do you wish to continue(Y or N):\")\n",
    "        if (i[0]==\"Y\" or i[0]==\"y\"):\n",
    "            continue\n",
    "        else:\n",
    "            print(\"Thank you for Visiting our ATM\")\n",
    "            break\n",
    "    print(\"Select your Option\\nb---->Balance\\nw---->withdrawl\\nd---->Deposit\\nc---->Cancel\")\n",
    "    ib=input(\"Please enter your choice: \")  \n",
    "    if(ib==\"b\"):\n",
    "        print(\"Your Current balance is {} Rupees\".format(initialbal))\n",
    "        pass\n",
    "    elif(ib==\"w\"):\n",
    "        ic=int(input(\"Please enter the amount to withdrew:\"))\n",
    "        if (ic<=initialbal):\n",
    "            updatedbal=initialbal-ic\n",
    "            print(\"Your Previous balance is {} Rupees\".format(initialbal))\n",
    "            print(\"Your Current balance is {} Rupees\".format(updatedbal))            \n",
    "            pass\n",
    "        else:\n",
    "            print(\"You account doesnt have sufficient funds\")\n",
    "            continue\n",
    "    elif(ib==\"d\"):\n",
    "        id=int(input(\"Please enter the amount to deposit:\"))\n",
    "        updatedbal=initialbal+id\n",
    "        print(\"Your Previous balance is {} Rupees\".format(initialbal))\n",
    "        print(\"Your Current balance is {} Rupees\".format(updatedbal))\n",
    "        continue\n",
    "    elif(ib==\"c\"):\n",
    "        print(\"Thank you for banking with Us\")\n",
    "        break   \n",
    "print(\"Collect your card\")"
   ]
  },
  {
   "cell_type": "code",
   "execution_count": 15,
   "metadata": {},
   "outputs": [
    {
     "name": "stdout",
     "output_type": "stream",
     "text": [
      "Output: [0, 1, 2, 3, 4, 5, 6, 7, 8, 9, 10, 11, 12, 13, 14]\n"
     ]
    }
   ],
   "source": [
    "import itertools\n",
    "\n",
    "# Two 1D-arrays which are sorted in ascending order\n",
    "A=[0, 2, 3, 6, 11, 13, 14]\n",
    "B=[1, 4, 5, 7, 8, 9, 10, 12]\n",
    "\n",
    "# Merge them into a single sorted array C\n",
    "C = list(itertools.chain(A, B))\n",
    "print(\"Output:\",sorted(C))"
   ]
  },
  {
   "cell_type": "code",
   "execution_count": 16,
   "metadata": {},
   "outputs": [
    {
     "name": "stdout",
     "output_type": "stream",
     "text": [
      "The number of elements in list given:  13\n"
     ]
    }
   ],
   "source": [
    "import itertools\n",
    "\n",
    "#Initialize a list/nested list\n",
    "l=[[0, 32.0, 25, 77.0], [5, 41.0], [10, 50.0], [15, 59.0], [20, 68.0, 104.0]]\n",
    "\n",
    "flatl=list(itertools.chain(*l))\n",
    "\n",
    "#find the total elements in a list / nested list\n",
    "print(\"The number of elements in list given: \",len(flatl))"
   ]
  },
  {
   "cell_type": "code",
   "execution_count": 17,
   "metadata": {},
   "outputs": [
    {
     "name": "stdout",
     "output_type": "stream",
     "text": [
      "Output: {0: 'hello', 1: 'at', 2: 'test', 3: 'this', 4: 'here', 5: 'now', 6: 'message'}\n"
     ]
    }
   ],
   "source": [
    "# Initialize a string list\n",
    "listOfStr = [\"hello\", \"at\" , \"test\" , \"this\" , \"here\" , \"now\" , \"message\"]\n",
    "\n",
    "# Convert list string to a dictionary\n",
    "dictOflist = {i : listOfStr[i] for i in range(0, len(listOfStr))}\n",
    "print(\"Output:\",dictOflist)"
   ]
  },
  {
   "cell_type": "code",
   "execution_count": 18,
   "metadata": {},
   "outputs": [
    {
     "name": "stdout",
     "output_type": "stream",
     "text": [
      "Output: [[1. 1. 1. 1. 1.]\n",
      " [1. 1. 1. 1. 1.]\n",
      " [1. 1. 1. 1. 1.]\n",
      " [1. 1. 1. 1. 1.]\n",
      " [1. 1. 1. 1. 1.]]\n"
     ]
    }
   ],
   "source": [
    "import numpy as np\n",
    "\n",
    "# Initialize the dimension of matrix (n)\n",
    "n=5\n",
    "\n",
    "# Create matrix n x n\n",
    "matrix=np.ones((n,n))\n",
    "print(\"Output:\",matrix)"
   ]
  },
  {
   "cell_type": "code",
   "execution_count": 19,
   "metadata": {},
   "outputs": [
    {
     "name": "stdout",
     "output_type": "stream",
     "text": [
      "Output: [10, 100, 1000]\n",
      "Output: 1110\n"
     ]
    }
   ],
   "source": [
    "# Initialize a list with both string and numeric values \n",
    "listOfSi = [\"hello\", 10 , \"test\" , 100 , \"here\" , \"now\" , 1000]\n",
    "\n",
    "# Add only numeric values present in the list\n",
    "listOfi=[ ]\n",
    "for i in listOfSi:\n",
    "    if (type(i)==int):\n",
    "        listOfi.append(i)\n",
    "    else:\n",
    "        continue\n",
    "print(\"Output:\",listOfi)\n",
    "s=0\n",
    "for j in range(0,len(listOfi)):\n",
    "    s+=listOfi[j]\n",
    "print(\"Output:\",s)"
   ]
  },
  {
   "cell_type": "code",
   "execution_count": 20,
   "metadata": {},
   "outputs": [
    {
     "name": "stdout",
     "output_type": "stream",
     "text": [
      "Output: [['100'], ['10', '30'], ['B', 'A', '100'], ['40', '20', '10', '30'], ['K', 'I', 'A', '30', '20']]\n"
     ]
    }
   ],
   "source": [
    "# Initialize a nested list\n",
    "l = [['40', '20', '10', '30'], ['K', 'I', 'A', '30', '20'], ['10', '30'], ['100'], ['B', 'A', '100']]\n",
    "\n",
    "# Sort list of lists by the size of sub lists/nested lists\n",
    "o=sorted(l, key=len)\n",
    "print(\"Output:\",o)"
   ]
  },
  {
   "cell_type": "code",
   "execution_count": 21,
   "metadata": {},
   "outputs": [
    {
     "name": "stdout",
     "output_type": "stream",
     "text": [
      "Output: [40, 30]\n"
     ]
    }
   ],
   "source": [
    "# Initialize a nested list\n",
    "l = [[10, 20, 30, 40],[30, 40, 60, 70],[20, 30, 40, 60, 70],[30, 40, 80, 90]]\n",
    "           \n",
    "# Print the common elements in all sub lists\n",
    "a=l[0]\n",
    "b=l[1:]\n",
    "for ls in b:\n",
    "    a=(set(a)&set(ls))\n",
    "print(\"Output:\",list(a)) "
   ]
  },
  {
   "cell_type": "code",
   "execution_count": 22,
   "metadata": {},
   "outputs": [
    {
     "name": "stdout",
     "output_type": "stream",
     "text": [
      "Input: [('apple', 'banana', 'cherry'), ('fire', 'water', 'air', 'earth'), ('years', 'months', 'days', 'hours', 'seconds')]\n",
      "Output: [['apple', 'banana', 'cherry'], ['fire', 'water', 'air', 'earth'], ['years', 'months', 'days', 'hours', 'seconds']]\n"
     ]
    }
   ],
   "source": [
    "# Initialize a list of tuples \n",
    "list_tuples=[(\"apple\", \"banana\", \"cherry\"),(\"fire\",\"water\",\"air\",\"earth\"),(\"years\",\"months\",\"days\",\"hours\",\"seconds\")]\n",
    "print(\"Input:\",list_tuples)\n",
    "\n",
    "# Convert list of tuples to list of lists\n",
    "list_lists=[list(elem) for elem in list_tuples]\n",
    "print(\"Output:\",list_lists)"
   ]
  },
  {
   "cell_type": "code",
   "execution_count": 23,
   "metadata": {},
   "outputs": [
    {
     "name": "stdout",
     "output_type": "stream",
     "text": [
      "Output: {40: [('A', 40), ('B', 40)], 25: [('C', 25), ('D', 25)], 50: [('E', 50)]}\n"
     ]
    }
   ],
   "source": [
    "#  Initialize a list of tuples\n",
    "l_t=[('A',40),('C',25),('B',40),('D',25),('E',50)]\n",
    "\n",
    "# Group the tuples by second value\n",
    "o={}\n",
    "for i,j in l_t:\n",
    "    if j in o:\n",
    "        o[j].append((i, j)) \n",
    "    else: \n",
    "        o[j] = [(i, j)] \n",
    "print(\"Output:\",o)"
   ]
  },
  {
   "cell_type": "code",
   "execution_count": 24,
   "metadata": {},
   "outputs": [
    {
     "name": "stdout",
     "output_type": "stream",
     "text": [
      "The min values index position wise : [1, 2, 3]\n",
      "The max values index position wise : [111, 222, 333]\n"
     ]
    }
   ],
   "source": [
    "# Initialize a list of tuples \n",
    "lis_tup=[(11,2,33),(1,222,333),(111,22,3)]  \n",
    "\n",
    "# Min and maximum value of a particular element position \n",
    "mn=list(map(min, zip(*lis_tup)))\n",
    "mx=list(map(max, zip(*lis_tup)))\n",
    "\n",
    "print (\"The min values index position wise :\", mn) \n",
    "print (\"The max values index position wise :\", mx) "
   ]
  },
  {
   "cell_type": "code",
   "execution_count": 25,
   "metadata": {},
   "outputs": [
    {
     "name": "stdout",
     "output_type": "stream",
     "text": [
      "enter the element:tupl\n",
      "Output: ('var', 'tupl', 'min', 'set')\n",
      "Output: ('str', 'sum', 'max', 'tupl')\n",
      "Output: ('tupl', 'var', 'max', 'set')\n"
     ]
    }
   ],
   "source": [
    "#  Initialize a list of tuples\n",
    "l_t=[(\"var\",\"tupl\",\"min\",\"set\"),(\"str\",\"sum\",\"max\",\"tupl\"),(\"min\",\"sum\",\"str\",\"set\"),(\"tupl\",\"var\",\"max\",\"set\")]\n",
    "\n",
    "# Tuples containing the given element from the list of tuples\n",
    "i=str(input(\"enter the element:\"))\n",
    "for ele in l_t:\n",
    "    if i in ele:\n",
    "        print(\"Output:\",ele)"
   ]
  },
  {
   "cell_type": "code",
   "execution_count": 26,
   "metadata": {},
   "outputs": [
    {
     "name": "stdout",
     "output_type": "stream",
     "text": [
      "('E', 'B1', 'B2', 'S1', 'S2', 'S3', 'S4', 'S5', 'S6', 'S7', 'S8', 'S9', 'S10', 'G')\n",
      "Output: ('G', 'S10', 'S9', 'S8', 'S7', 'S6', 'S5', 'S4', 'S3', 'S2', 'S1', 'B2', 'B1', 'E')\n"
     ]
    }
   ],
   "source": [
    "# Initialize a tuple\n",
    "tup=(\"E\",\"B1\",\"B2\",\"S1\",\"S2\",\"S3\",\"S4\",\"S5\",\"S6\",\"S7\",\"S8\",\"S9\",\"S10\",\"G\")\n",
    "print(tup)\n",
    "\n",
    "#  Reverse a tuple\n",
    "new_tup = tup[::-1]\n",
    "print(\"Output:\",new_tup)"
   ]
  },
  {
   "cell_type": "code",
   "execution_count": 27,
   "metadata": {},
   "outputs": [
    {
     "name": "stdout",
     "output_type": "stream",
     "text": [
      "Output: [[0, 1, 0, 0, 1], [1, 0, 1, 1, 0], [1, 1, 1, 0, 0]]\n"
     ]
    }
   ],
   "source": [
    "# Create a binary matrix\n",
    "mat = [[0, 1, 0, 0, 1],  \n",
    "       [1, 0, 1, 1, 0],  \n",
    "       [0, 1, 0, 0, 1], \n",
    "       [1, 1, 1, 0, 0],\n",
    "       [1, 0, 1, 1, 0]]\n",
    "\n",
    "# Print all unique rows of the given matrix\n",
    "out_mat=[]\n",
    "for row in mat:\n",
    "    if row not in out_mat:\n",
    "        out_mat.append(row)\n",
    "print(\"Output:\",out_mat)"
   ]
  },
  {
   "cell_type": "code",
   "execution_count": 28,
   "metadata": {},
   "outputs": [
    {
     "name": "stdout",
     "output_type": "stream",
     "text": [
      "Enter:010010110\n",
      "Given input is binary\n"
     ]
    }
   ],
   "source": [
    "i_s=str(input(\"Enter:\"))\n",
    "# Insert the given string in a set \n",
    "si_s=set(i_s)\n",
    "# Check if the string is binary or not\n",
    "check={'0', '1'}\n",
    "if (si_s==check or si_s=={'0'} or si_s== {'1'}):\n",
    "    print(\"Given input is binary\")\n",
    "else:\n",
    "    print(\"Given input is not binary\")"
   ]
  },
  {
   "cell_type": "code",
   "execution_count": 29,
   "metadata": {},
   "outputs": [
    {
     "name": "stdout",
     "output_type": "stream",
     "text": [
      "Common elements in three lists: {1, 2, 3, 7}\n"
     ]
    }
   ],
   "source": [
    "# Initialize three array of lists.\n",
    "list_1=[1, 2, 3, 4, 5, 6, 7, 8]\n",
    "list_2=[10, 2, 5, 7, 3, 1, 11]\n",
    "list_3=[8, 7, 2, 15, 4, 3, 12, 1]\n",
    "\n",
    "# Find common elements in three lists using sets\n",
    "set_1=set(list_1)\n",
    "set_2=set(list_2)\n",
    "set_3=set(list_3)\n",
    "print(\"Common elements in three lists:\", set_1.intersection(set_2,set_3))"
   ]
  },
  {
   "cell_type": "code",
   "execution_count": 30,
   "metadata": {},
   "outputs": [
    {
     "name": "stdout",
     "output_type": "stream",
     "text": [
      "Mis. values in l1: [8, 9, 7]\n",
      "Add. values in l1: [1, 2, 3]\n",
      "Mis. values in l2: [1, 2, 3]\n",
      "Add. values in l2: [8, 9, 7]\n"
     ]
    }
   ],
   "source": [
    "#  Initialize two array of lists\n",
    "l1=[1,6,2,3,1,5,6,4]\n",
    "l2=[8,5,4,6,7,8,4,9]\n",
    "\n",
    "# Missing and additional values in two lists using sets\n",
    "print(\"Mis. values in l1:\", list(set(l2).difference(set(l1)))) \n",
    "print(\"Add. values in l1:\", list(set(l1).difference(set(l2))))\n",
    "print(\"Mis. values in l2:\", list(set(l1).difference(set(l2)))) \n",
    "print(\"Add. values in l2:\", list(set(l2).difference(set(l1))))"
   ]
  },
  {
   "cell_type": "code",
   "execution_count": 31,
   "metadata": {},
   "outputs": [
    {
     "name": "stdout",
     "output_type": "stream",
     "text": [
      "Enter text:laptop\n",
      "not a Hetrogram\n"
     ]
    }
   ],
   "source": [
    "# Input as string\n",
    "i =str(input(\"Enter text:\"))\n",
    "j = list(i.replace(\" \", \"\"))\n",
    "# Check whether a given string is Heterogram or not\n",
    "out=[]\n",
    "for ele in j:\n",
    "    if(ele not in out):\n",
    "        out.append(ele)\n",
    "        continue\n",
    "    else:\n",
    "        print(\"not a Hetrogram\")\n",
    "        break\n",
    "if(len(out)==len(j)):\n",
    "    print(\"Hetrogram\")"
   ]
  },
  {
   "cell_type": "code",
   "execution_count": 32,
   "metadata": {},
   "outputs": [
    {
     "name": "stdout",
     "output_type": "stream",
     "text": [
      "Please enter your Text:Hello lui! Please find me.\n",
      "----------------------\n",
      "hello lui! please find me.\n",
      "Your input is accepted\n"
     ]
    }
   ],
   "source": [
    "i_n=input(\"Please enter your Text:\")\n",
    "i_n=i_n.lower()\n",
    "vowels=[\"a\",\"e\",\"i\",\"o\",\"u\"]\n",
    "i=set(vowels)\n",
    "out=set([ ])\n",
    "for element in i_n:\n",
    "    if element in i:\n",
    "        out.add(element)\n",
    "    else:\n",
    "        pass\n",
    "if len(out)==len(i):\n",
    "    print(\"----------------------\")\n",
    "    print(i_n)\n",
    "    print(\"Your input is accepted\")\n",
    "else:\n",
    "    print(\"Your input is rejected\")"
   ]
  },
  {
   "cell_type": "code",
   "execution_count": 33,
   "metadata": {},
   "outputs": [
    {
     "name": "stdout",
     "output_type": "stream",
     "text": [
      "xyzabcdefghijklmnopqrstuvwxyz\n",
      "lmnopqrstabcdefghijklmnopqrstuvwxyz\n",
      "abcabcdefghijklmnopqrstuvwxyz\n",
      "abcdefghijklmnopqrstuvwxyz\n",
      "abcdefghabcdefghijklmnopqrstuvwxyz\n",
      "abcdefghijklmnopqrstuvwxyz\n",
      "abcdefghdefghijklmnopqrstuvwxyz\n"
     ]
    }
   ],
   "source": [
    "#  Initialize two sets of strings \n",
    "string_set1 = {\"abcdefgh\",\"xyz\",\"lmnopqrst\",\"abc\"} \n",
    "string_set2 = {\"ijklmnopqrstuvwxyz\",\"abcdefghijklmnopqrstuvwxyz\",\"defghijklmnopqrstuvwxyz\"}\n",
    "\n",
    "# Pairs of complete strings in two sets after concatenation\n",
    "a=list(string_set1)\n",
    "b=list(string_set2)\n",
    "alphabets=set(\"abcdefghijklmnopqrstuvwxyz\")\n",
    "o=[]\n",
    "for i in a:\n",
    "    for j in b:\n",
    "        c=i+j\n",
    "        o.append(c)\n",
    "for ele in o:\n",
    "    if (set(ele)==alphabets):\n",
    "        print(ele)"
   ]
  },
  {
   "cell_type": "code",
   "execution_count": 34,
   "metadata": {},
   "outputs": [
    {
     "name": "stdout",
     "output_type": "stream",
     "text": [
      "Dictonary: {'Tim': 18, 'Charlie': 12, 'Tiffany': 22, 'Robert': 25, 'Normen': 28, 'Blanka': 20}\n",
      "Keys: ['Tim', 'Charlie', 'Tiffany', 'Robert', 'Normen', 'Blanka']\n",
      "Values: [18, 12, 22, 25, 28, 20]\n"
     ]
    }
   ],
   "source": [
    "# Initialize a dictionary\n",
    "Dict = {'Tim': 18,'Charlie':12,'Tiffany':22,'Robert':25,'Normen':28,'Blanka':20}\n",
    "print(\"Dictonary:\", Dict)\n",
    "\n",
    "# Split dictionary keys and values into separate lists\n",
    "keys, values = zip(*Dict.items())\n",
    "print(\"Keys:\", list(keys))\n",
    "print(\"Values:\", list(values))"
   ]
  },
  {
   "cell_type": "code",
   "execution_count": 35,
   "metadata": {},
   "outputs": [
    {
     "name": "stdout",
     "output_type": "stream",
     "text": [
      "Blanka\n",
      "Normen\n"
     ]
    }
   ],
   "source": [
    "# Consider two dictionaries\n",
    "dit1={'Tim': 18,'Charlie':12,'Tiffany':22,'Robert':25,'Blanka':20,'Normen':22}\n",
    "dit2={'Normen':28,'Tom': 15,'Prince':12,'Stiffany':25,'Stark':22,'Blanka':30}\n",
    "\n",
    "# Common keys between the dictionaries\n",
    "for key in dit1: \n",
    "    if key in dit2:\n",
    "        print(key)\n",
    "        continue\n",
    "    else: \n",
    "        pass "
   ]
  },
  {
   "cell_type": "code",
   "execution_count": 36,
   "metadata": {},
   "outputs": [
    {
     "name": "stdout",
     "output_type": "stream",
     "text": [
      "The original dict: {'Tim': 18, 'Charlie': 12, 'Tiffany': 22, 'Robert': 25, 'Blanka': 50, 'Normen': 50}\n",
      "The modified keys: {'1Tima': 18, '1Charliea': 12, '1Tiffanya': 22, '1Roberta': 25, 'Blanka': 50, 'Normen': 50}\n"
     ]
    }
   ],
   "source": [
    "# Initialize a dictionary\n",
    "d={'Tim': 18, 'Charlie': 12, 'Tiffany': 22, 'Robert': 25, 'Blanka': 50, 'Normen': 50}\n",
    "print(\"The original dict:\", d)\n",
    "# Change keys in dictionary\n",
    "nd=dict()\n",
    "for key,value in d.items():\n",
    "    if (value>30):\n",
    "        nd[key]=value\n",
    "    else:\n",
    "        nd[\"1\"+key+\"a\"]=value\n",
    "print(\"The modified keys:\", nd)"
   ]
  },
  {
   "cell_type": "code",
   "execution_count": 37,
   "metadata": {},
   "outputs": [
    {
     "name": "stdout",
     "output_type": "stream",
     "text": [
      "{'Tim': 18, 'Charlie': 12, 'Tiffany': 22, 'Robert': 25, 'Normen': 50}\n",
      "{18: 'Tim', 12: 'Charlie', 22: 'Tiffany', 25: 'Robert', 50: 'Normen'}\n"
     ]
    }
   ],
   "source": [
    "# Initialize a dictionary\n",
    "dit={'Tim': 18, 'Charlie': 12, 'Tiffany': 22, 'Robert': 25, 'Normen': 50}\n",
    "print(dit)\n",
    "\n",
    "# Change keys in dictionary\n",
    "invert_dit = dict(map(reversed, dit.items()))\n",
    "print(invert_dit)"
   ]
  },
  {
   "cell_type": "code",
   "execution_count": 38,
   "metadata": {},
   "outputs": [
    {
     "name": "stdout",
     "output_type": "stream",
     "text": [
      "('X', 55)\n",
      "('Y', 67)\n",
      "('Z', 90)\n"
     ]
    }
   ],
   "source": [
    "#  Initialize a nested dictionary with numbers as values in sub dictionary\n",
    "k={\"X\":{\"A\":30,\"B\":15,\"C\":10},\"Y\":{\"A\":35,\"B\":20,\"C\":12},\"Z\":{\"A\":60,\"B\":25,\"C\":5}}\n",
    "\n",
    "# Sum values for each key in nested dictionary\n",
    "for i in k:\n",
    "    o=(i,sum(k[i].values()))\n",
    "    print(o)"
   ]
  },
  {
   "cell_type": "code",
   "execution_count": 39,
   "metadata": {},
   "outputs": [
    {
     "name": "stdout",
     "output_type": "stream",
     "text": [
      "Dictionary 1 keys:, {'Charlie', 'Normen', 'Robert', 'Tim', 'Tiffany', 'Blanka'}\n",
      "Dictionary 2 keys: {'Normen', 'Stark', 'Tiffany', 'Blanka', 'Prince', 'Tom'}\n",
      "Differences in keys of two-dictionaries: {'Stark', 'Tim', 'Prince', 'Charlie', 'Robert', 'Tom'}\n"
     ]
    }
   ],
   "source": [
    "# Consider two dictionaries\n",
    "dit1={'Tim': 18,'Charlie':12,'Tiffany':22,'Robert':25,'Blanka':20,'Normen':22}\n",
    "dit2={'Normen':28,'Tom': 15,'Prince':12,'Tiffany':25,'Stark':22,'Blanka':30}\n",
    "\n",
    "# Finding difference in keys of two-dictionaries\n",
    "keys1, values1 = zip(*dit1.items())\n",
    "k_dit1=set(keys1)\n",
    "print(\"Dictionary 1 keys:,\",k_dit1)\n",
    "keys2, values2 = zip(*dit2.items())\n",
    "k_dit2=set(keys2)\n",
    "print(\"Dictionary 2 keys:\",k_dit2)\n",
    "print(\"Differences in keys of two-dictionaries:\",k_dit1 ^ k_dit2)"
   ]
  },
  {
   "cell_type": "code",
   "execution_count": 40,
   "metadata": {},
   "outputs": [
    {
     "name": "stdout",
     "output_type": "stream",
     "text": [
      "The second maximum value in dict is:  4\n"
     ]
    }
   ],
   "source": [
    "# Initialize a dictionary\n",
    "d={\"Green\":5, \"white\":3, \"Blue\":2, \"Black\":4}\n",
    "\n",
    "# Second maximum value in a dictionary\n",
    "max_value = max(d.values())\n",
    "a=[ ]\n",
    "for i in d.values():\n",
    "    if (i<max_value):\n",
    "        a.append(i)\n",
    "print(\"The second maximum value in dict is: \",max(a))"
   ]
  }
 ],
 "metadata": {
  "kernelspec": {
   "display_name": "Python 3",
   "language": "python",
   "name": "python3"
  },
  "language_info": {
   "codemirror_mode": {
    "name": "ipython",
    "version": 3
   },
   "file_extension": ".py",
   "mimetype": "text/x-python",
   "name": "python",
   "nbconvert_exporter": "python",
   "pygments_lexer": "ipython3",
   "version": "3.7.3"
  }
 },
 "nbformat": 4,
 "nbformat_minor": 2
}
