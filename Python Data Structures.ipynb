{
 "cells": [
  {
   "cell_type": "markdown",
   "metadata": {},
   "source": [
    "# Python Data Structures "
   ]
  },
  {
   "cell_type": "markdown",
   "metadata": {},
   "source": [
    "In Python, data structures are mainly classified into 4 types namely\n",
    "1. Lists\n",
    "2. Tuples\n",
    "3. Dictionaries\n",
    "4. Sets"
   ]
  },
  {
   "cell_type": "markdown",
   "metadata": {},
   "source": [
    "1. Lists"
   ]
  },
  {
   "cell_type": "markdown",
   "metadata": {},
   "source": [
    "Lists mainly contains objects of same(Homogeneous) or different(Hetrogeneous) data types.\n",
    "Objects are included in square brackets[ ]."
   ]
  },
  {
   "cell_type": "code",
   "execution_count": 1,
   "metadata": {},
   "outputs": [
    {
     "name": "stdout",
     "output_type": "stream",
     "text": [
      "[0, 1, 2, 3, 4, 5]\n",
      "<class 'list'>\n",
      "6\n"
     ]
    }
   ],
   "source": [
    "a = [0,1,2,3,4,5] #Homogeneous list\n",
    "print(a)\n",
    "print(type(a))\n",
    "print(len(a))"
   ]
  },
  {
   "cell_type": "code",
   "execution_count": 2,
   "metadata": {},
   "outputs": [
    {
     "name": "stdout",
     "output_type": "stream",
     "text": [
      "['H', 2, 'E', 4.0, 'L', 6, 'L', 8.0, 'o']\n",
      "<class 'list'>\n"
     ]
    }
   ],
   "source": [
    "b = [\"H\",2,\"E\",4.0,\"L\",6,\"L\",8.0,\"o\"] #Hetrogeneous list\n",
    "print(b)\n",
    "print(type(b))"
   ]
  },
  {
   "cell_type": "markdown",
   "metadata": {},
   "source": [
    "In list we can access a element by using index.\n",
    "Left to right - index starts from 0,1,2.....\n",
    "Right to left - index starts from -1,-2,....\n",
    "To get multiple elements we use [staring : (ending-1)]"
   ]
  },
  {
   "cell_type": "code",
   "execution_count": 3,
   "metadata": {},
   "outputs": [
    {
     "name": "stdout",
     "output_type": "stream",
     "text": [
      "H\n",
      "E\n",
      "8.0\n",
      "6\n"
     ]
    }
   ],
   "source": [
    "c = [\"H\",2,\"E\",4.0,\"L\",6,\"L\",8.0,\"o\"]\n",
    "print(c[0]) #prints 0th element in list c[R-L]\n",
    "print(c[2]) #prints 2nd element in list c[R-L]\n",
    "print(c[-2])#prints -2nd element in list c[R-L]\n",
    "print(c[-4])#prints -4th element in list c[R-L]"
   ]
  },
  {
   "cell_type": "code",
   "execution_count": 4,
   "metadata": {},
   "outputs": [
    {
     "name": "stdout",
     "output_type": "stream",
     "text": [
      "[6, 8, 10]\n",
      "[6, 8, 10]\n",
      "[12, 14, 16, 18, 20]\n",
      "[2, 4, 6, 8, 10]\n",
      "[2, 4, 6, 8, 10, 12, 14, 16, 18]\n",
      "[20]\n",
      "[2, 4, 6, 8, 10, 12, 14, 16, 18, 20]\n",
      "2\n"
     ]
    }
   ],
   "source": [
    "# List slicing\n",
    "d = [2,4,6,8,10,12,14,16,18,20]\n",
    "print(d[2:5])\n",
    "print(d[2:-5])\n",
    "print(d[5:])\n",
    "print(d[:5])\n",
    "print(d[:-1])\n",
    "print(d[-1:])\n",
    "print(d[:])\n",
    "print(min(d))"
   ]
  },
  {
   "cell_type": "code",
   "execution_count": 5,
   "metadata": {},
   "outputs": [
    {
     "name": "stdout",
     "output_type": "stream",
     "text": [
      "[0, 11, 22, 33, 44, 50, 66]\n",
      "66\n"
     ]
    }
   ],
   "source": [
    "# we can update value by using index.\n",
    "e = [1,11,22,33,44,55,66]\n",
    "e[0] = 0\n",
    "e[5] = 50\n",
    "print(e)\n",
    "print(max(e))"
   ]
  },
  {
   "cell_type": "code",
   "execution_count": 6,
   "metadata": {},
   "outputs": [
    {
     "name": "stdout",
     "output_type": "stream",
     "text": [
      "[10, 100, 1000, 10000]\n",
      "[100, 1000, 10000]\n",
      "[10000, 1000, 100]\n",
      "[10000, 1000]\n",
      "1\n",
      "11000\n",
      "[10000, 1000]\n",
      "[]\n"
     ]
    }
   ],
   "source": [
    "# Methods for List\n",
    "f = [1000,100,10,10000]\n",
    "f.sort()   #sorts item\n",
    "print(f)\n",
    "f.pop(0)   #Deletes item\n",
    "print(f)\n",
    "f.reverse() #Reverse the list\n",
    "print(f)\n",
    "f.remove(100) #removes 100 from list\n",
    "print(f)\n",
    "x = f.index(1000) #prints index value of element\n",
    "print(x)\n",
    "print(sum(f)) #sum of all elments in list\n",
    "print(f)\n",
    "f.clear() #clears list\n",
    "print(f)"
   ]
  },
  {
   "cell_type": "code",
   "execution_count": 7,
   "metadata": {},
   "outputs": [
    {
     "name": "stdout",
     "output_type": "stream",
     "text": [
      "[10, 20, 30, 40, 50, 60]\n"
     ]
    }
   ],
   "source": [
    "# Looping over a list and appending to new list\n",
    "i = [5,10,15,20,25,30]\n",
    "j = [ ]\n",
    "for ele in i:\n",
    "    o = ele*2\n",
    "    j.append(o)\n",
    "print(j)"
   ]
  },
  {
   "cell_type": "code",
   "execution_count": 8,
   "metadata": {},
   "outputs": [
    {
     "name": "stdout",
     "output_type": "stream",
     "text": [
      "[(0, 'A'), (1, 'M'), (2, 'A'), (3, 'R'), (4, 'A'), (5, 'V'), (6, 'A'), (7, 'T'), (8, 'H'), (9, 'I')]\n"
     ]
    }
   ],
   "source": [
    "# Enumerate is a useful builtin function to print element and corresponding index.\n",
    "g = [\"A\",\"M\",\"A\",\"R\",\"A\",\"V\",\"A\",\"T\",\"H\",\"I\"]\n",
    "print(list(enumerate(g)))"
   ]
  },
  {
   "cell_type": "markdown",
   "metadata": {},
   "source": [
    "2. Tuples"
   ]
  },
  {
   "cell_type": "markdown",
   "metadata": {},
   "source": [
    "Tuples contains objects similar to lists but objects are immutatable.\n",
    "Meaning the objects cannot be inserted or delete.\n",
    "generally objects are written in parenthesis( )."
   ]
  },
  {
   "cell_type": "code",
   "execution_count": 9,
   "metadata": {},
   "outputs": [
    {
     "name": "stdout",
     "output_type": "stream",
     "text": [
      "('A',)\n",
      "<class 'tuple'>\n"
     ]
    }
   ],
   "source": [
    "h = (\"A\",);\n",
    "print(h)\n",
    "print(type(h))"
   ]
  },
  {
   "cell_type": "code",
   "execution_count": 10,
   "metadata": {},
   "outputs": [
    {
     "name": "stdout",
     "output_type": "stream",
     "text": [
      "('1', 2, '3')\n",
      "1\n",
      "2\n",
      "3\n"
     ]
    }
   ],
   "source": [
    "# Tuple packing and unpacking\n",
    "i = (\"1\",2,\"3\")   # packing\n",
    "x,y,z = i         # Unpacking\n",
    "print(i)\n",
    "print(x)\n",
    "print(y)\n",
    "print(z)"
   ]
  },
  {
   "cell_type": "markdown",
   "metadata": {},
   "source": [
    "Due to immutability property of tuples. The elements in tuples can be used as keys for dictionaries."
   ]
  },
  {
   "cell_type": "markdown",
   "metadata": {},
   "source": [
    "3. Dictionaries"
   ]
  },
  {
   "cell_type": "markdown",
   "metadata": {},
   "source": [
    "Dictionaries are represented as {Key:Value} pairs"
   ]
  },
  {
   "cell_type": "code",
   "execution_count": 11,
   "metadata": {},
   "outputs": [
    {
     "name": "stdout",
     "output_type": "stream",
     "text": [
      "{'Normen': 28, 'Tom': 15, 'Prince': 12, 'Stiffany': 25, 'Stark': 22, 'Blanka': 30}\n",
      "<class 'dict'>\n"
     ]
    }
   ],
   "source": [
    "dit = {'Normen':28,'Tom': 15,'Prince':12,'Stiffany':25,'Stark':22,'Blanka':30}\n",
    "print(dit)\n",
    "print(type(dit))"
   ]
  },
  {
   "cell_type": "code",
   "execution_count": 12,
   "metadata": {},
   "outputs": [
    {
     "name": "stdout",
     "output_type": "stream",
     "text": [
      "{'Normen': 28, 'Tom': 'Tim', 'Prince': 12, 'Stiffany': 25, 'Stark': 22, 'Blanka': 30}\n"
     ]
    }
   ],
   "source": [
    "# We can change values of keys (Muttable)\n",
    "dit = {'Normen':28,'Tom': 15,'Prince':12,'Stiffany':25,'Stark':22,'Blanka':30}\n",
    "dit['Tom'] = 'Tim'\n",
    "print(dit)"
   ]
  },
  {
   "cell_type": "markdown",
   "metadata": {},
   "source": [
    "In dictionaries all operations are done by making use of keys."
   ]
  },
  {
   "cell_type": "code",
   "execution_count": 13,
   "metadata": {},
   "outputs": [
    {
     "name": "stdout",
     "output_type": "stream",
     "text": [
      "{'Normen': 15, 'Prince': 12, 'Stiffany': 25, 'Stark': 22, 'Blanka': 30}\n"
     ]
    }
   ],
   "source": [
    "# Keys in dictionaries replaces the value if same key with different value is existed. \n",
    "dit = {'Normen':28,'Normen': 15,'Prince':12,'Stiffany':25,'Stark':22,'Blanka':30}\n",
    "print(dit)\n"
   ]
  },
  {
   "cell_type": "markdown",
   "metadata": {},
   "source": [
    "4. Sets"
   ]
  },
  {
   "cell_type": "markdown",
   "metadata": {},
   "source": [
    "Sets are unordered collection of objects without any copies."
   ]
  },
  {
   "cell_type": "code",
   "execution_count": 14,
   "metadata": {},
   "outputs": [
    {
     "name": "stdout",
     "output_type": "stream",
     "text": [
      "{1, 2, 3, 4, 5}\n",
      "<class 'set'>\n"
     ]
    }
   ],
   "source": [
    "z = [1,2,2,3,3,3,4,4,4,4,5,5,5,5,5]\n",
    "s = set(z)\n",
    "print(s)\n",
    "print(type(s))"
   ]
  },
  {
   "cell_type": "code",
   "execution_count": 15,
   "metadata": {},
   "outputs": [
    {
     "name": "stdout",
     "output_type": "stream",
     "text": [
      "{1, 2, 3, 4, 5, 6, 8, 10}\n",
      "{2, 4}\n",
      "{1, 3, 5}\n",
      "{1, 3, 5, 6, 8, 10}\n"
     ]
    }
   ],
   "source": [
    "q = {1, 2, 3, 4, 5}\n",
    "w = {2, 4, 6, 8, 10}\n",
    "a = q | w                  #Union\n",
    "print(a)\n",
    "b = q & w                 #Intersection\n",
    "print(b)\n",
    "c = q - w                 #Difference\n",
    "print(c)\n",
    "print(q.symmetric_difference(w)) #Symmetric difference"
   ]
  }
 ],
 "metadata": {
  "kernelspec": {
   "display_name": "Python 3",
   "language": "python",
   "name": "python3"
  },
  "language_info": {
   "codemirror_mode": {
    "name": "ipython",
    "version": 3
   },
   "file_extension": ".py",
   "mimetype": "text/x-python",
   "name": "python",
   "nbconvert_exporter": "python",
   "pygments_lexer": "ipython3",
   "version": "3.7.3"
  }
 },
 "nbformat": 4,
 "nbformat_minor": 2
}
